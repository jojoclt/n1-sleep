{
 "cells": [
  {
   "cell_type": "code",
   "execution_count": 1,
   "metadata": {},
   "outputs": [
    {
     "name": "stdout",
     "output_type": "stream",
     "text": [
      "win_samples 500, step_samples 100, n_windows 1107\n",
      "win_samples 500, step_samples 100, n_windows 747\n",
      "win_samples 500, step_samples 100, n_windows 627\n",
      "win_samples 500, step_samples 100, n_windows 597\n",
      "win_samples 500, step_samples 100, n_windows 747\n",
      "win_samples 500, step_samples 100, n_windows 687\n",
      "win_samples 500, step_samples 100, n_windows 447\n",
      "win_samples 500, step_samples 100, n_windows 897\n",
      "win_samples 500, step_samples 100, n_windows 867\n",
      "win_samples 500, step_samples 100, n_windows 1287\n"
     ]
    }
   ],
   "source": [
    "import numpy as np\n",
    "from scipy import signal\n",
    "import pyedflib\n",
    "import os\n",
    "import fnmatch\n",
    "\n",
    "# Load the EEG data\n",
    "read_folder = './sleep-cassette/'\n",
    "write_folder = './clips/'\n",
    "\n",
    "pattern1 = '*-PSG.edf'\n",
    "pattern2 = '*-Hypnogram.edf'\n",
    "\n",
    "psg_list = sorted([f for f in os.listdir(write_folder) if fnmatch.fnmatch(f, pattern1)])\n",
    "for ele in psg_list:\n",
    "    f = pyedflib.EdfReader(os.path.join(write_folder, ele))\n",
    "    eeg_data = f.readSignal(0)\n",
    "    fs = f.getSampleFrequency(0)\n",
    "    win_size = 5  # seconds\n",
    "    step_size = 1  # seconds\n",
    "    win_samples = int(win_size * fs)\n",
    "    step_samples = int(step_size * fs)\n",
    "    n_windows = int(np.ceil((eeg_data.shape[0] - win_samples) / step_samples) + 1)\n",
    "    print(f\"win_samples {win_samples}, step_samples {step_samples}, n_windows {n_windows}\")\n",
    "\n",
    "# Define the frequency bands of interest\n",
    "freq_bands = {'delta': (0.5, 4),\n",
    "              'theta': (4, 8),\n",
    "              'alpha': (8, 12),\n",
    "              'beta': (12, 30)}\n",
    "\n",
    "# Define the window size and step size\n",
    "\n",
    "# Calculate the number of samples per window and step\n",
    "\n",
    "# Initialize the classification matrix"
   ]
  }
 ],
 "metadata": {
  "kernelspec": {
   "display_name": "sleep-linear",
   "language": "python",
   "name": "python3"
  },
  "language_info": {
   "codemirror_mode": {
    "name": "ipython",
    "version": 3
   },
   "file_extension": ".py",
   "mimetype": "text/x-python",
   "name": "python",
   "nbconvert_exporter": "python",
   "pygments_lexer": "ipython3",
   "version": "3.9.16"
  },
  "orig_nbformat": 4
 },
 "nbformat": 4,
 "nbformat_minor": 2
}
